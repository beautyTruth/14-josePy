{
 "cells": [
  {
   "cell_type": "code",
   "execution_count": 1,
   "id": "61fbfb68",
   "metadata": {},
   "outputs": [
    {
     "data": {
      "text/plain": [
       "'/Users/philhasenkamp/Desktop/Jose-Portillo-Python/14-Advanced-Modules'"
      ]
     },
     "execution_count": 1,
     "metadata": {},
     "output_type": "execute_result"
    }
   ],
   "source": [
    "pwd"
   ]
  },
  {
   "cell_type": "code",
   "execution_count": 2,
   "id": "009177fc",
   "metadata": {},
   "outputs": [],
   "source": [
    "f = open('practice.txt','w+')\n",
    "f.write('this is a test string')\n",
    "f.close()"
   ]
  },
  {
   "cell_type": "code",
   "execution_count": 3,
   "id": "ac1f24db",
   "metadata": {},
   "outputs": [],
   "source": [
    "import os"
   ]
  },
  {
   "cell_type": "code",
   "execution_count": 4,
   "id": "15981843",
   "metadata": {},
   "outputs": [
    {
     "data": {
      "text/plain": [
       "'/Users/philhasenkamp/Desktop/Jose-Portillo-Python/14-Advanced-Modules'"
      ]
     },
     "execution_count": 4,
     "metadata": {},
     "output_type": "execute_result"
    }
   ],
   "source": [
    "os.getcwd()"
   ]
  },
  {
   "cell_type": "code",
   "execution_count": 5,
   "id": "0cc986ed",
   "metadata": {},
   "outputs": [
    {
     "data": {
      "text/plain": [
       "['opening_reading_files_folders.ipynb',\n",
       " 'practice.txt',\n",
       " 'README.md',\n",
       " 'collections.ipynb',\n",
       " '.ipynb_checkpoints',\n",
       " '.git']"
      ]
     },
     "execution_count": 5,
     "metadata": {},
     "output_type": "execute_result"
    }
   ],
   "source": [
    "os.listdir()"
   ]
  },
  {
   "cell_type": "code",
   "execution_count": 6,
   "id": "c31b9fed",
   "metadata": {},
   "outputs": [],
   "source": [
    "import shutil"
   ]
  },
  {
   "cell_type": "code",
   "execution_count": 7,
   "id": "c0f56574",
   "metadata": {},
   "outputs": [
    {
     "data": {
      "text/plain": [
       "'/Users/philhasenkamp/Desktop/peach.py'"
      ]
     },
     "execution_count": 7,
     "metadata": {},
     "output_type": "execute_result"
    }
   ],
   "source": [
    "shutil.move('peach.py','/Users/philhasenkamp/Desktop')"
   ]
  },
  {
   "cell_type": "code",
   "execution_count": 8,
   "id": "a10f5f8b",
   "metadata": {},
   "outputs": [
    {
     "data": {
      "text/plain": [
       "['.DS_Store',\n",
       " 'peach.py',\n",
       " '.localized',\n",
       " 'learning',\n",
       " 'Jose-Portillo-Python',\n",
       " 'migraines',\n",
       " '.ipynb_checkpoints',\n",
       " 'KriKri']"
      ]
     },
     "execution_count": 8,
     "metadata": {},
     "output_type": "execute_result"
    }
   ],
   "source": [
    "os.listdir('/Users/philhasenkamp/Desktop/')"
   ]
  },
  {
   "cell_type": "code",
   "execution_count": 9,
   "id": "58eca4db",
   "metadata": {},
   "outputs": [
    {
     "data": {
      "text/plain": [
       "'/Users/philhasenkamp/Desktop/Jose-Portillo-Python/14-Advanced-Modules/peach.py'"
      ]
     },
     "execution_count": 9,
     "metadata": {},
     "output_type": "execute_result"
    }
   ],
   "source": [
    "shutil.move('/Users/philhasenkamp/Desktop/peach.py','/Users/philhasenkamp/Desktop/Jose-Portillo-Python/14-Advanced-Modules')"
   ]
  },
  {
   "cell_type": "code",
   "execution_count": 10,
   "id": "4f121a4e",
   "metadata": {},
   "outputs": [
    {
     "data": {
      "text/plain": [
       "['opening_reading_files_folders.ipynb',\n",
       " 'peach.py',\n",
       " 'practice.txt',\n",
       " 'README.md',\n",
       " 'collections.ipynb',\n",
       " '.ipynb_checkpoints',\n",
       " '.git']"
      ]
     },
     "execution_count": 10,
     "metadata": {},
     "output_type": "execute_result"
    }
   ],
   "source": [
    "os.listdir()"
   ]
  },
  {
   "cell_type": "code",
   "execution_count": 15,
   "id": "deed50c5",
   "metadata": {},
   "outputs": [],
   "source": [
    "import send2trash"
   ]
  },
  {
   "cell_type": "code",
   "execution_count": 16,
   "id": "96c2d0a4",
   "metadata": {},
   "outputs": [
    {
     "data": {
      "text/plain": [
       "['beepbeep.hs',\n",
       " 'opening_reading_files_folders.ipynb',\n",
       " 'peach.py',\n",
       " 'practice.txt',\n",
       " 'README.md',\n",
       " 'collections.ipynb',\n",
       " 'funky_cold.hs',\n",
       " '.ipynb_checkpoints',\n",
       " '.git',\n",
       " 'delete.html']"
      ]
     },
     "execution_count": 16,
     "metadata": {},
     "output_type": "execute_result"
    }
   ],
   "source": [
    "os.listdir()"
   ]
  },
  {
   "cell_type": "code",
   "execution_count": 17,
   "id": "2dd9f3fb",
   "metadata": {},
   "outputs": [],
   "source": [
    "send2trash.send2trash('practice.txt')"
   ]
  },
  {
   "cell_type": "code",
   "execution_count": 18,
   "id": "7a2d5dc6",
   "metadata": {},
   "outputs": [
    {
     "data": {
      "text/plain": [
       "['beepbeep.hs',\n",
       " 'opening_reading_files_folders.ipynb',\n",
       " 'peach.py',\n",
       " 'README.md',\n",
       " 'collections.ipynb',\n",
       " 'funky_cold.hs',\n",
       " '.ipynb_checkpoints',\n",
       " '.git',\n",
       " 'delete.html']"
      ]
     },
     "execution_count": 18,
     "metadata": {},
     "output_type": "execute_result"
    }
   ],
   "source": [
    "os.listdir()"
   ]
  },
  {
   "cell_type": "code",
   "execution_count": null,
   "id": "c425f03f",
   "metadata": {},
   "outputs": [],
   "source": []
  }
 ],
 "metadata": {
  "kernelspec": {
   "display_name": "Python 3 (ipykernel)",
   "language": "python",
   "name": "python3"
  },
  "language_info": {
   "codemirror_mode": {
    "name": "ipython",
    "version": 3
   },
   "file_extension": ".py",
   "mimetype": "text/x-python",
   "name": "python",
   "nbconvert_exporter": "python",
   "pygments_lexer": "ipython3",
   "version": "3.11.3"
  }
 },
 "nbformat": 4,
 "nbformat_minor": 5
}
