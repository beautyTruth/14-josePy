{
 "cells": [
  {
   "cell_type": "code",
   "execution_count": 1,
   "id": "7944e94d",
   "metadata": {},
   "outputs": [],
   "source": [
    "f = open('fileone.html','w+')\n",
    "f.write('one file hi how are ya doing')\n",
    "f.close()"
   ]
  },
  {
   "cell_type": "code",
   "execution_count": 2,
   "id": "9e31125b",
   "metadata": {},
   "outputs": [],
   "source": [
    "f = open('filetwo.hs','w+')\n",
    "f.write('two file hi how are ya doing pardner?')\n",
    "f.close()"
   ]
  },
  {
   "cell_type": "code",
   "execution_count": 3,
   "id": "1b2190d9",
   "metadata": {},
   "outputs": [],
   "source": [
    "import zipfile"
   ]
  },
  {
   "cell_type": "code",
   "execution_count": 4,
   "id": "964b8e53",
   "metadata": {},
   "outputs": [],
   "source": [
    "comp_file = zipfile.ZipFile('compressed_file.zip','w')"
   ]
  },
  {
   "cell_type": "code",
   "execution_count": 5,
   "id": "b8ba69b9",
   "metadata": {},
   "outputs": [],
   "source": [
    "comp_file.write('fileone.html',compress_type=zipfile.ZIP_DEFLATED)"
   ]
  },
  {
   "cell_type": "code",
   "execution_count": 6,
   "id": "96bd28ba",
   "metadata": {},
   "outputs": [],
   "source": [
    "comp_file.write('filetwo.hs',compress_type=zipfile.ZIP_DEFLATED)"
   ]
  },
  {
   "cell_type": "code",
   "execution_count": 7,
   "id": "6f5e0c32",
   "metadata": {},
   "outputs": [],
   "source": [
    "comp_file.close()"
   ]
  },
  {
   "cell_type": "code",
   "execution_count": 8,
   "id": "f85d965e",
   "metadata": {},
   "outputs": [],
   "source": [
    "zip_obj = zipfile.ZipFile('compressed_file.zip','r')"
   ]
  },
  {
   "cell_type": "code",
   "execution_count": 9,
   "id": "eaac519a",
   "metadata": {},
   "outputs": [],
   "source": [
    "zip_obj.extractall('extracted_content')"
   ]
  },
  {
   "cell_type": "code",
   "execution_count": 10,
   "id": "416c41ef",
   "metadata": {},
   "outputs": [],
   "source": [
    "import shutil\n"
   ]
  },
  {
   "cell_type": "code",
   "execution_count": 12,
   "id": "3e8189ac",
   "metadata": {},
   "outputs": [],
   "source": [
    "dir_to_zip = '/Users/philhasenkamp/Desktop/Jose-Portillo-Python/14-Advanced-Modules/extracted_content/'"
   ]
  },
  {
   "cell_type": "code",
   "execution_count": 13,
   "id": "869e0e4a",
   "metadata": {},
   "outputs": [],
   "source": [
    "output_filename = 'example'"
   ]
  },
  {
   "cell_type": "code",
   "execution_count": 14,
   "id": "8137047a",
   "metadata": {},
   "outputs": [
    {
     "data": {
      "text/plain": [
       "'/Users/philhasenkamp/Desktop/Jose-Portillo-Python/14-Advanced-Modules/example.zip'"
      ]
     },
     "execution_count": 14,
     "metadata": {},
     "output_type": "execute_result"
    }
   ],
   "source": [
    "shutil.make_archive(output_filename,'zip',dir_to_zip)"
   ]
  },
  {
   "cell_type": "code",
   "execution_count": 15,
   "id": "e3c0f157",
   "metadata": {},
   "outputs": [],
   "source": [
    "shutil.unpack_archive('example.zip','final_unzip','zip')"
   ]
  },
  {
   "cell_type": "code",
   "execution_count": null,
   "id": "5e1fdbea",
   "metadata": {},
   "outputs": [],
   "source": []
  }
 ],
 "metadata": {
  "kernelspec": {
   "display_name": "Python 3 (ipykernel)",
   "language": "python",
   "name": "python3"
  },
  "language_info": {
   "codemirror_mode": {
    "name": "ipython",
    "version": 3
   },
   "file_extension": ".py",
   "mimetype": "text/x-python",
   "name": "python",
   "nbconvert_exporter": "python",
   "pygments_lexer": "ipython3",
   "version": "3.11.3"
  }
 },
 "nbformat": 4,
 "nbformat_minor": 5
}
