{
 "cells": [
  {
   "cell_type": "code",
   "execution_count": 1,
   "id": "0ad0de49",
   "metadata": {},
   "outputs": [],
   "source": [
    "text = \"Miriam is waiting for you to text her at her phone number 456-876-9087. Call soon!\""
   ]
  },
  {
   "cell_type": "code",
   "execution_count": 3,
   "id": "3ce1395f",
   "metadata": {},
   "outputs": [
    {
     "data": {
      "text/plain": [
       "True"
      ]
     },
     "execution_count": 3,
     "metadata": {},
     "output_type": "execute_result"
    }
   ],
   "source": [
    "'phone' in text"
   ]
  },
  {
   "cell_type": "code",
   "execution_count": 4,
   "id": "23807076",
   "metadata": {},
   "outputs": [],
   "source": [
    "import re"
   ]
  },
  {
   "cell_type": "code",
   "execution_count": 5,
   "id": "407224ca",
   "metadata": {},
   "outputs": [],
   "source": [
    "pattern = 'waiting'"
   ]
  },
  {
   "cell_type": "code",
   "execution_count": 6,
   "id": "5f43b5ca",
   "metadata": {},
   "outputs": [
    {
     "data": {
      "text/plain": [
       "<re.Match object; span=(10, 17), match='waiting'>"
      ]
     },
     "execution_count": 6,
     "metadata": {},
     "output_type": "execute_result"
    }
   ],
   "source": [
    "re.search(pattern,text)"
   ]
  },
  {
   "cell_type": "code",
   "execution_count": 7,
   "id": "eff51968",
   "metadata": {},
   "outputs": [],
   "source": [
    "match = re.search(pattern,text)"
   ]
  },
  {
   "cell_type": "code",
   "execution_count": 8,
   "id": "ffc80a22",
   "metadata": {},
   "outputs": [
    {
     "data": {
      "text/plain": [
       "(10, 17)"
      ]
     },
     "execution_count": 8,
     "metadata": {},
     "output_type": "execute_result"
    }
   ],
   "source": [
    "match.span()"
   ]
  },
  {
   "cell_type": "code",
   "execution_count": 1,
   "id": "e69fc6bb",
   "metadata": {},
   "outputs": [],
   "source": [
    "## Lecture 110"
   ]
  },
  {
   "cell_type": "code",
   "execution_count": 2,
   "id": "7a13f68a",
   "metadata": {},
   "outputs": [],
   "source": [
    "## Lecture 111"
   ]
  },
  {
   "cell_type": "code",
   "execution_count": null,
   "id": "a8bb1327",
   "metadata": {},
   "outputs": [],
   "source": []
  }
 ],
 "metadata": {
  "kernelspec": {
   "display_name": "Python 3 (ipykernel)",
   "language": "python",
   "name": "python3"
  },
  "language_info": {
   "codemirror_mode": {
    "name": "ipython",
    "version": 3
   },
   "file_extension": ".py",
   "mimetype": "text/x-python",
   "name": "python",
   "nbconvert_exporter": "python",
   "pygments_lexer": "ipython3",
   "version": "3.11.3"
  }
 },
 "nbformat": 4,
 "nbformat_minor": 5
}
