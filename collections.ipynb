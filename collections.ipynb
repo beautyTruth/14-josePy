{
 "cells": [
  {
   "cell_type": "code",
   "execution_count": 1,
   "id": "d688ee41",
   "metadata": {},
   "outputs": [],
   "source": [
    "from collections import Counter"
   ]
  },
  {
   "cell_type": "code",
   "execution_count": 2,
   "id": "76d822c3",
   "metadata": {},
   "outputs": [],
   "source": [
    "mylist = [7,7,7,7,7,7,77,77,77,77,777,777,777,777,777,777,777]"
   ]
  },
  {
   "cell_type": "code",
   "execution_count": 3,
   "id": "fb8c5c8c",
   "metadata": {},
   "outputs": [
    {
     "data": {
      "text/plain": [
       "Counter({7: 6, 77: 4, 777: 7})"
      ]
     },
     "execution_count": 3,
     "metadata": {},
     "output_type": "execute_result"
    }
   ],
   "source": [
    "Counter(mylist)"
   ]
  },
  {
   "cell_type": "code",
   "execution_count": 4,
   "id": "39724716",
   "metadata": {},
   "outputs": [],
   "source": [
    "my_other_list = ['a','a','a','a',22,22,22,22,22,22,'b','b','b']"
   ]
  },
  {
   "cell_type": "code",
   "execution_count": 5,
   "id": "6371abcb",
   "metadata": {},
   "outputs": [
    {
     "data": {
      "text/plain": [
       "Counter({'a': 4, 22: 6, 'b': 3})"
      ]
     },
     "execution_count": 5,
     "metadata": {},
     "output_type": "execute_result"
    }
   ],
   "source": [
    "Counter(my_other_list)"
   ]
  },
  {
   "cell_type": "code",
   "execution_count": 6,
   "id": "e5107164",
   "metadata": {},
   "outputs": [
    {
     "data": {
      "text/plain": [
       "Counter({'o': 2,\n",
       "         'w': 2,\n",
       "         'u': 3,\n",
       "         'd': 1,\n",
       "         'h': 4,\n",
       "         'f': 5,\n",
       "         'p': 3,\n",
       "         'g': 3,\n",
       "         'i': 4,\n",
       "         'a': 3,\n",
       "         'b': 3,\n",
       "         'e': 1,\n",
       "         'l': 1,\n",
       "         'v': 2,\n",
       "         's': 1})"
      ]
     },
     "execution_count": 6,
     "metadata": {},
     "output_type": "execute_result"
    }
   ],
   "source": [
    "Counter('owudhfpwohfgpiuabefpigbhalifgvbasiufvh')"
   ]
  },
  {
   "cell_type": "code",
   "execution_count": 7,
   "id": "ecf5fe2b",
   "metadata": {},
   "outputs": [],
   "source": [
    "sentence = \"How much wood would a wood chuck chuck if a wood chuck could chuck wood\""
   ]
  },
  {
   "cell_type": "code",
   "execution_count": 8,
   "id": "b40a5d38",
   "metadata": {},
   "outputs": [
    {
     "data": {
      "text/plain": [
       "Counter({'how': 1,\n",
       "         'much': 1,\n",
       "         'wood': 4,\n",
       "         'would': 1,\n",
       "         'a': 2,\n",
       "         'chuck': 4,\n",
       "         'if': 1,\n",
       "         'could': 1})"
      ]
     },
     "execution_count": 8,
     "metadata": {},
     "output_type": "execute_result"
    }
   ],
   "source": [
    "Counter(sentence.lower().split())"
   ]
  },
  {
   "cell_type": "code",
   "execution_count": 9,
   "id": "f5ac49c9",
   "metadata": {},
   "outputs": [],
   "source": [
    "letters = 'xxxxxxxxxxxxxxxcccccccccccvvvvvvvzzzzzzzzzzzzzmmmmmmmm'"
   ]
  },
  {
   "cell_type": "code",
   "execution_count": 10,
   "id": "3131d89a",
   "metadata": {},
   "outputs": [],
   "source": [
    "c = Counter(letters)"
   ]
  },
  {
   "cell_type": "code",
   "execution_count": 11,
   "id": "84693e5b",
   "metadata": {},
   "outputs": [
    {
     "data": {
      "text/plain": [
       "Counter({'x': 15, 'c': 11, 'v': 7, 'z': 13, 'm': 8})"
      ]
     },
     "execution_count": 11,
     "metadata": {},
     "output_type": "execute_result"
    }
   ],
   "source": [
    "c"
   ]
  },
  {
   "cell_type": "code",
   "execution_count": 12,
   "id": "46a35d73",
   "metadata": {},
   "outputs": [
    {
     "data": {
      "text/plain": [
       "[('x', 15), ('z', 13), ('c', 11), ('m', 8), ('v', 7)]"
      ]
     },
     "execution_count": 12,
     "metadata": {},
     "output_type": "execute_result"
    }
   ],
   "source": [
    "c.most_common()"
   ]
  },
  {
   "cell_type": "code",
   "execution_count": 13,
   "id": "87e7396e",
   "metadata": {},
   "outputs": [
    {
     "data": {
      "text/plain": [
       "[('x', 15), ('z', 13)]"
      ]
     },
     "execution_count": 13,
     "metadata": {},
     "output_type": "execute_result"
    }
   ],
   "source": [
    "c.most_common(2)"
   ]
  },
  {
   "cell_type": "code",
   "execution_count": 14,
   "id": "80b1015f",
   "metadata": {},
   "outputs": [
    {
     "data": {
      "text/plain": [
       "['x', 'c', 'v', 'z', 'm']"
      ]
     },
     "execution_count": 14,
     "metadata": {},
     "output_type": "execute_result"
    }
   ],
   "source": [
    "list(c)"
   ]
  },
  {
   "cell_type": "code",
   "execution_count": 15,
   "id": "9941d4ac",
   "metadata": {},
   "outputs": [],
   "source": [
    "from collections import defaultdict"
   ]
  },
  {
   "cell_type": "code",
   "execution_count": 16,
   "id": "a20aee10",
   "metadata": {},
   "outputs": [],
   "source": [
    "d = defaultdict(lambda: 0)"
   ]
  },
  {
   "cell_type": "code",
   "execution_count": 17,
   "id": "0fdd20e7",
   "metadata": {},
   "outputs": [],
   "source": [
    "d['correct'] = 100"
   ]
  },
  {
   "cell_type": "code",
   "execution_count": 19,
   "id": "d59075b2",
   "metadata": {},
   "outputs": [
    {
     "data": {
      "text/plain": [
       "100"
      ]
     },
     "execution_count": 19,
     "metadata": {},
     "output_type": "execute_result"
    }
   ],
   "source": [
    "d['correct']"
   ]
  },
  {
   "cell_type": "code",
   "execution_count": 20,
   "id": "eb5c3786",
   "metadata": {},
   "outputs": [
    {
     "data": {
      "text/plain": [
       "0"
      ]
     },
     "execution_count": 20,
     "metadata": {},
     "output_type": "execute_result"
    }
   ],
   "source": [
    "d[\"WHATEVER!!!\"]"
   ]
  },
  {
   "cell_type": "code",
   "execution_count": 21,
   "id": "88be47c1",
   "metadata": {},
   "outputs": [
    {
     "data": {
      "text/plain": [
       "defaultdict(<function __main__.<lambda>()>, {'correct': 100, 'WHATEVER!!!': 0})"
      ]
     },
     "execution_count": 21,
     "metadata": {},
     "output_type": "execute_result"
    }
   ],
   "source": [
    "d"
   ]
  },
  {
   "cell_type": "code",
   "execution_count": 22,
   "id": "e0a72805",
   "metadata": {},
   "outputs": [],
   "source": [
    "mytuple = (10,20,30)"
   ]
  },
  {
   "cell_type": "code",
   "execution_count": 23,
   "id": "eac5fb32",
   "metadata": {},
   "outputs": [
    {
     "data": {
      "text/plain": [
       "10"
      ]
     },
     "execution_count": 23,
     "metadata": {},
     "output_type": "execute_result"
    }
   ],
   "source": [
    "mytuple[0]"
   ]
  },
  {
   "cell_type": "code",
   "execution_count": 24,
   "id": "9b7826dd",
   "metadata": {},
   "outputs": [],
   "source": [
    "from collections import namedtuple"
   ]
  },
  {
   "cell_type": "code",
   "execution_count": 25,
   "id": "e7097b5e",
   "metadata": {},
   "outputs": [],
   "source": [
    "Dog = namedtuple('Dog',['age','breed','name'])"
   ]
  },
  {
   "cell_type": "code",
   "execution_count": 26,
   "id": "0c84f889",
   "metadata": {},
   "outputs": [],
   "source": [
    "pookie = Dog(age=7,breed='husky',name='pookems')"
   ]
  },
  {
   "cell_type": "code",
   "execution_count": 27,
   "id": "f48ca8d1",
   "metadata": {},
   "outputs": [
    {
     "data": {
      "text/plain": [
       "Dog(age=7, breed='husky', name='pookems')"
      ]
     },
     "execution_count": 27,
     "metadata": {},
     "output_type": "execute_result"
    }
   ],
   "source": [
    "pookie"
   ]
  },
  {
   "cell_type": "code",
   "execution_count": 28,
   "id": "fd406c63",
   "metadata": {},
   "outputs": [
    {
     "data": {
      "text/plain": [
       "__main__.Dog"
      ]
     },
     "execution_count": 28,
     "metadata": {},
     "output_type": "execute_result"
    }
   ],
   "source": [
    "type(pookie)"
   ]
  },
  {
   "cell_type": "code",
   "execution_count": 29,
   "id": "ec4bb544",
   "metadata": {},
   "outputs": [
    {
     "data": {
      "text/plain": [
       "7"
      ]
     },
     "execution_count": 29,
     "metadata": {},
     "output_type": "execute_result"
    }
   ],
   "source": [
    "pookie.age"
   ]
  },
  {
   "cell_type": "code",
   "execution_count": 31,
   "id": "73c6201f",
   "metadata": {},
   "outputs": [
    {
     "data": {
      "text/plain": [
       "7"
      ]
     },
     "execution_count": 31,
     "metadata": {},
     "output_type": "execute_result"
    }
   ],
   "source": [
    "pookie[0]"
   ]
  },
  {
   "cell_type": "code",
   "execution_count": null,
   "id": "5c5a128e",
   "metadata": {},
   "outputs": [],
   "source": []
  }
 ],
 "metadata": {
  "kernelspec": {
   "display_name": "Python 3 (ipykernel)",
   "language": "python",
   "name": "python3"
  },
  "language_info": {
   "codemirror_mode": {
    "name": "ipython",
    "version": 3
   },
   "file_extension": ".py",
   "mimetype": "text/x-python",
   "name": "python",
   "nbconvert_exporter": "python",
   "pygments_lexer": "ipython3",
   "version": "3.11.3"
  }
 },
 "nbformat": 4,
 "nbformat_minor": 5
}
