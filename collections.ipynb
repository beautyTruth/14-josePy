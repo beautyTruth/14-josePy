{
 "cells": [
  {
   "cell_type": "code",
   "execution_count": 1,
   "id": "afb44f7c",
   "metadata": {},
   "outputs": [],
   "source": [
    "from collections import Counter"
   ]
  },
  {
   "cell_type": "code",
   "execution_count": 2,
   "id": "9bb050db",
   "metadata": {},
   "outputs": [],
   "source": [
    "mylist = [7,7,7,7,7,7,77,77,77,77,777,777,777,777,777,777,777]"
   ]
  },
  {
   "cell_type": "code",
   "execution_count": 3,
   "id": "539151c6",
   "metadata": {},
   "outputs": [
    {
     "data": {
      "text/plain": [
       "Counter({7: 6, 77: 4, 777: 7})"
      ]
     },
     "execution_count": 3,
     "metadata": {},
     "output_type": "execute_result"
    }
   ],
   "source": [
    "Counter(mylist)"
   ]
  },
  {
   "cell_type": "code",
   "execution_count": 4,
   "id": "457e316c",
   "metadata": {},
   "outputs": [],
   "source": [
    "my_other_list = ['a','a','a','a',22,22,22,22,22,22,'b','b','b']"
   ]
  },
  {
   "cell_type": "code",
   "execution_count": 5,
   "id": "4156f49d",
   "metadata": {},
   "outputs": [
    {
     "data": {
      "text/plain": [
       "Counter({'a': 4, 22: 6, 'b': 3})"
      ]
     },
     "execution_count": 5,
     "metadata": {},
     "output_type": "execute_result"
    }
   ],
   "source": [
    "Counter(my_other_list)"
   ]
  },
  {
   "cell_type": "code",
   "execution_count": 6,
   "id": "58f3864f",
   "metadata": {},
   "outputs": [
    {
     "data": {
      "text/plain": [
       "Counter({'o': 2,\n",
       "         'w': 2,\n",
       "         'u': 3,\n",
       "         'd': 1,\n",
       "         'h': 4,\n",
       "         'f': 5,\n",
       "         'p': 3,\n",
       "         'g': 3,\n",
       "         'i': 4,\n",
       "         'a': 3,\n",
       "         'b': 3,\n",
       "         'e': 1,\n",
       "         'l': 1,\n",
       "         'v': 2,\n",
       "         's': 1})"
      ]
     },
     "execution_count": 6,
     "metadata": {},
     "output_type": "execute_result"
    }
   ],
   "source": [
    "Counter('owudhfpwohfgpiuabefpigbhalifgvbasiufvh')"
   ]
  },
  {
   "cell_type": "code",
   "execution_count": 7,
   "id": "2f942150",
   "metadata": {},
   "outputs": [],
   "source": [
    "sentence = \"How much wood would a wood chuck chuck if a wood chuck could chuck wood\""
   ]
  },
  {
   "cell_type": "code",
   "execution_count": 8,
   "id": "9d587e52",
   "metadata": {},
   "outputs": [
    {
     "data": {
      "text/plain": [
       "Counter({'how': 1,\n",
       "         'much': 1,\n",
       "         'wood': 4,\n",
       "         'would': 1,\n",
       "         'a': 2,\n",
       "         'chuck': 4,\n",
       "         'if': 1,\n",
       "         'could': 1})"
      ]
     },
     "execution_count": 8,
     "metadata": {},
     "output_type": "execute_result"
    }
   ],
   "source": [
    "Counter(sentence.lower().split())"
   ]
  },
  {
   "cell_type": "code",
   "execution_count": 9,
   "id": "1e0d7b5e",
   "metadata": {},
   "outputs": [],
   "source": [
    "letters = 'xxxxxxxxxxxxxxxcccccccccccvvvvvvvzzzzzzzzzzzzzmmmmmmmm'"
   ]
  },
  {
   "cell_type": "code",
   "execution_count": 10,
   "id": "a15cfbc5",
   "metadata": {},
   "outputs": [],
   "source": [
    "c = Counter(letters)"
   ]
  },
  {
   "cell_type": "code",
   "execution_count": 11,
   "id": "379a635b",
   "metadata": {},
   "outputs": [
    {
     "data": {
      "text/plain": [
       "Counter({'x': 15, 'c': 11, 'v': 7, 'z': 13, 'm': 8})"
      ]
     },
     "execution_count": 11,
     "metadata": {},
     "output_type": "execute_result"
    }
   ],
   "source": [
    "c"
   ]
  },
  {
   "cell_type": "code",
   "execution_count": 12,
   "id": "2fcf43fd",
   "metadata": {},
   "outputs": [
    {
     "data": {
      "text/plain": [
       "[('x', 15), ('z', 13), ('c', 11), ('m', 8), ('v', 7)]"
      ]
     },
     "execution_count": 12,
     "metadata": {},
     "output_type": "execute_result"
    }
   ],
   "source": [
    "c.most_common()"
   ]
  },
  {
   "cell_type": "code",
   "execution_count": 13,
   "id": "26aa2df7",
   "metadata": {},
   "outputs": [
    {
     "data": {
      "text/plain": [
       "[('x', 15), ('z', 13)]"
      ]
     },
     "execution_count": 13,
     "metadata": {},
     "output_type": "execute_result"
    }
   ],
   "source": [
    "c.most_common(2)"
   ]
  },
  {
   "cell_type": "code",
   "execution_count": 14,
   "id": "30223f4f",
   "metadata": {},
   "outputs": [
    {
     "data": {
      "text/plain": [
       "['x', 'c', 'v', 'z', 'm']"
      ]
     },
     "execution_count": 14,
     "metadata": {},
     "output_type": "execute_result"
    }
   ],
   "source": [
    "list(c)"
   ]
  },
  {
   "cell_type": "code",
   "execution_count": 15,
   "id": "81defffc",
   "metadata": {},
   "outputs": [],
   "source": [
    "from collections import defaultdict"
   ]
  },
  {
   "cell_type": "code",
   "execution_count": 16,
   "id": "b6315b6d",
   "metadata": {},
   "outputs": [],
   "source": [
    "d = defaultdict(lambda: 0)"
   ]
  },
  {
   "cell_type": "code",
   "execution_count": 17,
   "id": "cc57ae5e",
   "metadata": {},
   "outputs": [],
   "source": [
    "d['correct'] = 100"
   ]
  },
  {
   "cell_type": "code",
   "execution_count": 19,
   "id": "c0e90954",
   "metadata": {},
   "outputs": [
    {
     "data": {
      "text/plain": [
       "100"
      ]
     },
     "execution_count": 19,
     "metadata": {},
     "output_type": "execute_result"
    }
   ],
   "source": [
    "d['correct']"
   ]
  },
  {
   "cell_type": "code",
   "execution_count": 20,
   "id": "60840df8",
   "metadata": {},
   "outputs": [
    {
     "data": {
      "text/plain": [
       "0"
      ]
     },
     "execution_count": 20,
     "metadata": {},
     "output_type": "execute_result"
    }
   ],
   "source": [
    "d[\"WHATEVER!!!\"]"
   ]
  },
  {
   "cell_type": "code",
   "execution_count": 21,
   "id": "424dc373",
   "metadata": {},
   "outputs": [
    {
     "data": {
      "text/plain": [
       "defaultdict(<function __main__.<lambda>()>, {'correct': 100, 'WHATEVER!!!': 0})"
      ]
     },
     "execution_count": 21,
     "metadata": {},
     "output_type": "execute_result"
    }
   ],
   "source": [
    "d"
   ]
  },
  {
   "cell_type": "code",
   "execution_count": 22,
   "id": "686b3a35",
   "metadata": {},
   "outputs": [],
   "source": [
    "mytuple = (10,20,30)"
   ]
  },
  {
   "cell_type": "code",
   "execution_count": 23,
   "id": "1e80b26f",
   "metadata": {},
   "outputs": [
    {
     "data": {
      "text/plain": [
       "10"
      ]
     },
     "execution_count": 23,
     "metadata": {},
     "output_type": "execute_result"
    }
   ],
   "source": [
    "mytuple[0]"
   ]
  },
  {
   "cell_type": "code",
   "execution_count": 24,
   "id": "bae63b83",
   "metadata": {},
   "outputs": [],
   "source": [
    "from collections import namedtuple"
   ]
  },
  {
   "cell_type": "code",
   "execution_count": 25,
   "id": "8cc6f253",
   "metadata": {},
   "outputs": [],
   "source": [
    "Dog = namedtuple('Dog',['age','breed','name'])"
   ]
  },
  {
   "cell_type": "code",
   "execution_count": 26,
   "id": "58d493d0",
   "metadata": {},
   "outputs": [],
   "source": [
    "pookie = Dog(age=7,breed='husky',name='pookems')"
   ]
  },
  {
   "cell_type": "code",
   "execution_count": 27,
   "id": "c0d59653",
   "metadata": {},
   "outputs": [
    {
     "data": {
      "text/plain": [
       "Dog(age=7, breed='husky', name='pookems')"
      ]
     },
     "execution_count": 27,
     "metadata": {},
     "output_type": "execute_result"
    }
   ],
   "source": [
    "pookie"
   ]
  },
  {
   "cell_type": "code",
   "execution_count": 28,
   "id": "6f197021",
   "metadata": {},
   "outputs": [
    {
     "data": {
      "text/plain": [
       "__main__.Dog"
      ]
     },
     "execution_count": 28,
     "metadata": {},
     "output_type": "execute_result"
    }
   ],
   "source": [
    "type(pookie)"
   ]
  },
  {
   "cell_type": "code",
   "execution_count": 29,
   "id": "c336300f",
   "metadata": {},
   "outputs": [
    {
     "data": {
      "text/plain": [
       "7"
      ]
     },
     "execution_count": 29,
     "metadata": {},
     "output_type": "execute_result"
    }
   ],
   "source": [
    "pookie.age"
   ]
  },
  {
   "cell_type": "code",
   "execution_count": null,
   "id": "728aa5fa",
   "metadata": {},
   "outputs": [],
   "source": []
  }
 ],
 "metadata": {
  "kernelspec": {
   "display_name": "Python 3 (ipykernel)",
   "language": "python",
   "name": "python3"
  },
  "language_info": {
   "codemirror_mode": {
    "name": "ipython",
    "version": 3
   },
   "file_extension": ".py",
   "mimetype": "text/x-python",
   "name": "python",
   "nbconvert_exporter": "python",
   "pygments_lexer": "ipython3",
   "version": "3.11.3"
  }
 },
 "nbformat": 4,
 "nbformat_minor": 5
}
